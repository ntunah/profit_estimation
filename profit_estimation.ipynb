{
 "cells": [
  {
   "cell_type": "code",
   "execution_count": null,
   "metadata": {},
   "outputs": [],
   "source": [
    "# What is Machine Learning => Is the science of making computers learn and act like human by feeding data and information \n",
    "# without being explicitly programmed"
   ]
  },
  {
   "cell_type": "code",
   "execution_count": null,
   "metadata": {},
   "outputs": [],
   "source": [
    "# NOTE: More data => Better model => High accuracy"
   ]
  },
  {
   "cell_type": "code",
   "execution_count": null,
   "metadata": {},
   "outputs": [],
   "source": [
    "# Machines Learning it learns the data , build predictions model , when a new data points comes in it can easyly predict for it"
   ]
  },
  {
   "cell_type": "code",
   "execution_count": null,
   "metadata": {},
   "outputs": [],
   "source": [
    "# Supervise learning => Use labaled data to train the model(labeled = what we want to predict) and features\n",
    "                     => Is the method used to enable machines to classify / predict objects, problem or situations based on labeled data fed to the machine\n",
    "# eg\n",
    "# feature => weight\n",
    "# labeled => currency\n",
    "# use weight to predict the name of the currency\n",
    "\n",
    "# weight(gramms)   currency\n",
    "    1               rand\n",
    "    3               penny\n",
    "    1               rand\n",
    "    2               euro\n",
    "    2               euro"
   ]
  },
  {
   "cell_type": "code",
   "execution_count": null,
   "metadata": {},
   "outputs": [],
   "source": [
    "# Unsupervise learning => The model identifies the patterns in a unlabeld data"
   ]
  },
  {
   "cell_type": "code",
   "execution_count": null,
   "metadata": {},
   "outputs": [],
   "source": [
    "# Reinforcement learning => The agent learns how to behave in an environment by performing actions and seeing the results"
   ]
  },
  {
   "cell_type": "code",
   "execution_count": null,
   "metadata": {},
   "outputs": [],
   "source": []
  },
  {
   "cell_type": "code",
   "execution_count": null,
   "metadata": {},
   "outputs": [],
   "source": [
    "Do you want to predict the category? that's classification\n",
    "for instance, whether the stock price will increase or decrease, 0 or 1 , True or False"
   ]
  },
  {
   "cell_type": "code",
   "execution_count": null,
   "metadata": {},
   "outputs": [],
   "source": [
    "Do you want to predict a quantity ? that's regression\n",
    "for instance , predicting the age of a person based on the height , weight , healthy and other factors"
   ]
  },
  {
   "cell_type": "code",
   "execution_count": null,
   "metadata": {},
   "outputs": [],
   "source": [
    "DO you want to dectect an anomaly? that's anomaly detection\n",
    "for instance , you want to detect money withdrawal anormalies"
   ]
  },
  {
   "cell_type": "code",
   "execution_count": null,
   "metadata": {},
   "outputs": [],
   "source": [
    "Do you want to discover structure in unexplored data? that's clustering\n",
    "for instance , finding groups of customers with similar behavior given a large database of customer data containing their demographics and past buying records"
   ]
  },
  {
   "cell_type": "code",
   "execution_count": null,
   "metadata": {},
   "outputs": [],
   "source": [
    "# Y => Dependent variable =>"
   ]
  },
  {
   "cell_type": "code",
   "execution_count": null,
   "metadata": {},
   "outputs": [],
   "source": [
    "# X =>  Independent variable => "
   ]
  },
  {
   "cell_type": "code",
   "execution_count": null,
   "metadata": {},
   "outputs": [],
   "source": [
    "# Numerical => is numbers gae , salary , height"
   ]
  },
  {
   "cell_type": "code",
   "execution_count": null,
   "metadata": {},
   "outputs": [],
   "source": [
    "# Categorical => is description color , gender , Dog's breed"
   ]
  },
  {
   "cell_type": "code",
   "execution_count": null,
   "metadata": {},
   "outputs": [],
   "source": [
    "# The distance bewtween the actual and predicted values are know as residuals or errors.\n",
    "# The best fit line should have the least sum of squares of these errors"
   ]
  },
  {
   "cell_type": "code",
   "execution_count": null,
   "metadata": {},
   "outputs": [],
   "source": [
    "# Coefficient => "
   ]
  },
  {
   "cell_type": "markdown",
   "metadata": {},
   "source": [
    "# STEPS"
   ]
  },
  {
   "cell_type": "code",
   "execution_count": null,
   "metadata": {},
   "outputs": [],
   "source": [
    "# Linear regression => is a statical model used to predict the relationship between independent and dependent variables."
   ]
  },
  {
   "cell_type": "code",
   "execution_count": null,
   "metadata": {},
   "outputs": [],
   "source": [
    "Applications of Linear regression\n",
    "1. determine Economic Growth\n",
    "2. predict GDP\n",
    "3. predict the price of the product in the future\n",
    "4. price of the house \n",
    "5. a number of house a builder would sell\n",
    "6. predict the number of runs a player would score(cricket)"
   ]
  },
  {
   "cell_type": "code",
   "execution_count": null,
   "metadata": {},
   "outputs": [],
   "source": []
  },
  {
   "cell_type": "markdown",
   "metadata": {},
   "source": [
    "### 1. define Objective => WHat is it that you want to predict"
   ]
  },
  {
   "cell_type": "code",
   "execution_count": null,
   "metadata": {},
   "outputs": [],
   "source": [
    "Base on expenditure predict the profit of 1000 companines"
   ]
  },
  {
   "cell_type": "code",
   "execution_count": 1,
   "metadata": {},
   "outputs": [
    {
     "name": "stderr",
     "output_type": "stream",
     "text": [
      "C:\\Users\\Student 24\\Anaconda3\\lib\\site-packages\\statsmodels\\tools\\_testing.py:19: FutureWarning: pandas.util.testing is deprecated. Use the functions in the public API at pandas.testing instead.\n",
      "  import pandas.util.testing as tm\n"
     ]
    }
   ],
   "source": [
    "# importing the libraries\n",
    "import numpy as np\n",
    "import pandas as pd\n",
    "import matplotlib.pyplot as plt\n",
    "import seaborn as sns\n",
    "%matplotlib inline"
   ]
  },
  {
   "cell_type": "code",
   "execution_count": null,
   "metadata": {},
   "outputs": [],
   "source": []
  },
  {
   "cell_type": "markdown",
   "metadata": {},
   "source": [
    "### 2. collect data => That matches what you want"
   ]
  },
  {
   "cell_type": "code",
   "execution_count": 2,
   "metadata": {},
   "outputs": [],
   "source": [
    "# Importing the dataset and extracting the independent and dependent variables\n",
    "companies = pd.read_csv(\"1000_Companies.csv\")\n",
    "X = companies.iloc[: , :-1].values # All the columns/varibales but exclude the last one\n",
    "Y = companies.iloc[:, 4].values # return only the fourth column"
   ]
  },
  {
   "cell_type": "code",
   "execution_count": 3,
   "metadata": {},
   "outputs": [
    {
     "data": {
      "text/html": [
       "<div>\n",
       "<style scoped>\n",
       "    .dataframe tbody tr th:only-of-type {\n",
       "        vertical-align: middle;\n",
       "    }\n",
       "\n",
       "    .dataframe tbody tr th {\n",
       "        vertical-align: top;\n",
       "    }\n",
       "\n",
       "    .dataframe thead th {\n",
       "        text-align: right;\n",
       "    }\n",
       "</style>\n",
       "<table border=\"1\" class=\"dataframe\">\n",
       "  <thead>\n",
       "    <tr style=\"text-align: right;\">\n",
       "      <th></th>\n",
       "      <th>R&amp;D Spend</th>\n",
       "      <th>Administration</th>\n",
       "      <th>Marketing Spend</th>\n",
       "      <th>State</th>\n",
       "      <th>Profit</th>\n",
       "    </tr>\n",
       "  </thead>\n",
       "  <tbody>\n",
       "    <tr>\n",
       "      <th>0</th>\n",
       "      <td>165349.20</td>\n",
       "      <td>136897.80</td>\n",
       "      <td>471784.10</td>\n",
       "      <td>New York</td>\n",
       "      <td>192261.83</td>\n",
       "    </tr>\n",
       "    <tr>\n",
       "      <th>1</th>\n",
       "      <td>162597.70</td>\n",
       "      <td>151377.59</td>\n",
       "      <td>443898.53</td>\n",
       "      <td>California</td>\n",
       "      <td>191792.06</td>\n",
       "    </tr>\n",
       "    <tr>\n",
       "      <th>2</th>\n",
       "      <td>153441.51</td>\n",
       "      <td>101145.55</td>\n",
       "      <td>407934.54</td>\n",
       "      <td>Florida</td>\n",
       "      <td>191050.39</td>\n",
       "    </tr>\n",
       "    <tr>\n",
       "      <th>3</th>\n",
       "      <td>144372.41</td>\n",
       "      <td>118671.85</td>\n",
       "      <td>383199.62</td>\n",
       "      <td>New York</td>\n",
       "      <td>182901.99</td>\n",
       "    </tr>\n",
       "    <tr>\n",
       "      <th>4</th>\n",
       "      <td>142107.34</td>\n",
       "      <td>91391.77</td>\n",
       "      <td>366168.42</td>\n",
       "      <td>Florida</td>\n",
       "      <td>166187.94</td>\n",
       "    </tr>\n",
       "  </tbody>\n",
       "</table>\n",
       "</div>"
      ],
      "text/plain": [
       "   R&D Spend  Administration  Marketing Spend       State     Profit\n",
       "0  165349.20       136897.80        471784.10    New York  192261.83\n",
       "1  162597.70       151377.59        443898.53  California  191792.06\n",
       "2  153441.51       101145.55        407934.54     Florida  191050.39\n",
       "3  144372.41       118671.85        383199.62    New York  182901.99\n",
       "4  142107.34        91391.77        366168.42     Florida  166187.94"
      ]
     },
     "execution_count": 3,
     "metadata": {},
     "output_type": "execute_result"
    }
   ],
   "source": [
    "companies.head()"
   ]
  },
  {
   "cell_type": "code",
   "execution_count": null,
   "metadata": {},
   "outputs": [],
   "source": []
  },
  {
   "cell_type": "markdown",
   "metadata": {},
   "source": [
    "### 3. Prepare data => Make sure the data is clean"
   ]
  },
  {
   "cell_type": "code",
   "execution_count": 4,
   "metadata": {},
   "outputs": [
    {
     "data": {
      "text/plain": [
       "<matplotlib.axes._subplots.AxesSubplot at 0x2007fe95588>"
      ]
     },
     "execution_count": 4,
     "metadata": {},
     "output_type": "execute_result"
    },
    {
     "data": {
      "image/png": "[encoded data removed]",
      "text/plain": [
       "<Figure size 432x288 with 2 Axes>"
      ]
     },
     "metadata": {
      "needs_background": "light"
     },
     "output_type": "display_data"
    }
   ],
   "source": [
    "# Data visualisation - understanding the data\n",
    "# Building the Correlation matrix\n",
    "sns.heatmap(companies.corr())"
   ]
  },
  {
   "cell_type": "code",
   "execution_count": 5,
   "metadata": {},
   "outputs": [],
   "source": [
    "# Encoding categorical data\n",
    "from sklearn.preprocessing import LabelEncoder , OneHotEncoder\n",
    "labelencoder = LabelEncoder()\n",
    "X[:, 3] = labelencoder.fit_transform(X[:, 3]) # Changing the state column to labelencoder"
   ]
  },
  {
   "cell_type": "code",
   "execution_count": null,
   "metadata": {},
   "outputs": [],
   "source": []
  },
  {
   "cell_type": "markdown",
   "metadata": {},
   "source": [
    "### 4. Select algorithm => Which model you want to use"
   ]
  },
  {
   "cell_type": "code",
   "execution_count": 7,
   "metadata": {},
   "outputs": [],
   "source": [
    "# Splitting the dataset into the Training set and Test set\n",
    "from sklearn.model_selection import train_test_split\n",
    "X_train ,X_test, y_train , y_test = train_test_split(X, Y , test_size = 0.2 , random_state = 0)"
   ]
  },
  {
   "cell_type": "code",
   "execution_count": 8,
   "metadata": {},
   "outputs": [],
   "source": [
    "# Fitting multiple Linear Regression to the training set\n",
    "from sklearn.linear_model import LinearRegression\n",
    "regressor = LinearRegression()"
   ]
  },
  {
   "cell_type": "code",
   "execution_count": null,
   "metadata": {},
   "outputs": [],
   "source": []
  },
  {
   "cell_type": "markdown",
   "metadata": {},
   "source": [
    "### 5. Train model =>"
   ]
  },
  {
   "cell_type": "code",
   "execution_count": 9,
   "metadata": {},
   "outputs": [
    {
     "data": {
      "text/plain": [
       "LinearRegression(copy_X=True, fit_intercept=True, n_jobs=None, normalize=False)"
      ]
     },
     "execution_count": 9,
     "metadata": {},
     "output_type": "execute_result"
    }
   ],
   "source": [
    "regressor.fit(X_train, y_train)"
   ]
  },
  {
   "cell_type": "code",
   "execution_count": null,
   "metadata": {},
   "outputs": [],
   "source": []
  },
  {
   "cell_type": "markdown",
   "metadata": {},
   "source": [
    "### 6. Test model & Predict => Does this model work , is it the valid model ?"
   ]
  },
  {
   "cell_type": "code",
   "execution_count": 10,
   "metadata": {},
   "outputs": [
    {
     "data": {
      "text/plain": [
       "array([ 89624.88499984,  88261.44060358,  94728.57723845, 176034.49990954,\n",
       "        83234.84214495, 110393.04058199, 131831.18880607,  91307.52461765,\n",
       "       164414.26754671,  53585.35570743,  66786.11950078, 150921.89704628,\n",
       "       126746.78121459,  59174.341725  , 177341.80724482,  75139.98127599,\n",
       "       118605.9491146 , 164403.24374731, 171336.34862472, 181885.06087421,\n",
       "       118762.26624784,  85504.5201526 , 181345.84072646,  83979.76201107,\n",
       "       104839.00200137, 101067.00608604,  53722.31401539,  56706.45386115,\n",
       "        68732.18107141, 209811.34272095, 121136.34391499, 111557.54775873,\n",
       "       101309.70393418, 138315.39958078,  63806.10546728, 108690.79660343,\n",
       "       185830.38310114, 171796.58186122, 174997.97325294, 118029.33822338,\n",
       "        96553.52264734, 165281.03076793, 107557.31012676,  50557.29080259,\n",
       "       116871.82636073,  58469.02312669, 158771.35516035,  78902.17488961,\n",
       "       160082.45834529, 131494.74562654, 185233.67354483, 174962.79318566,\n",
       "        93579.64586335,  78164.61392891, 180561.94494338,  84821.87449117,\n",
       "       143256.92009399, 170435.21728058,  84188.13777206, 105128.89266269,\n",
       "       142016.17711741,  52352.69882961, 141673.45079288, 138995.34025103,\n",
       "        98128.17857189, 113945.01159246, 126574.18191679, 151953.63890674,\n",
       "        58689.41162929, 174639.30763053, 124455.78288593, 168894.28704729,\n",
       "        91639.09627154, 155988.19861521,  84141.93382092,  77701.26598966,\n",
       "       120771.67191431,  93202.83024556, 138851.31833079, 143435.03120172,\n",
       "       171502.27009022, 139913.58651319, 106191.16076064, 155470.92422805,\n",
       "       139849.10179055, 109994.04650482,  69508.71795972,  87971.28828425,\n",
       "       139964.21158468, 148297.48006333, 157734.33411496,  58369.48912141,\n",
       "        93529.74798521, 113004.58676514,  56381.2521726 , 107236.26789414,\n",
       "       147708.49291933, 151962.21946809, 167625.09747992, 118582.41810675,\n",
       "       121120.89899524, 139386.24824009, 157345.63664385, 122319.5973879 ,\n",
       "        86914.16840487, 105151.69639275,  95157.47229309, 178205.73461428,\n",
       "       181770.2127381 , 109652.54183621, 165082.82081555, 167634.66689263,\n",
       "       157820.13925373, 174599.34276711, 170025.19931955,  52139.17476133,\n",
       "       176766.05450263, 104585.0186007 ,  82545.09933122, 138709.60895693,\n",
       "       144630.66101185, 162033.66822962, 170016.12436942, 120808.56812142,\n",
       "       159235.56115351, 110046.51849225, 169491.36019494,  60596.99166217,\n",
       "       158866.23532304, 157998.74491915, 174328.19840197, 156112.61616403,\n",
       "       103547.63396397,  85458.91251291, 141434.05433182, 165734.80936825,\n",
       "       121539.62832572, 170562.43564135, 100864.86949721,  82457.94166529,\n",
       "       178471.00347238, 101623.88174527,  70331.4587885 ,  90072.65723255,\n",
       "        61072.22154665,  68736.34043862,  73136.92467492, 176742.02902153,\n",
       "        90064.57113377, 128998.71699737,  93032.57243205,  88583.13235127,\n",
       "       172664.56674901,  60729.9896911 , 169370.01131309, 166278.94500381,\n",
       "       165779.92245025, 102529.4900122 , 181410.55817988,  74063.62063787,\n",
       "        91101.59217916, 135622.46937921,  64747.25748795,  71599.65942006,\n",
       "        60428.68269046, 184641.61773385, 176640.28450044, 158725.38392932,\n",
       "       141178.22408898, 154429.11848164,  58374.50655107,  90978.39637071,\n",
       "       152703.57620466, 168752.21397631,  72309.26825255, 116422.20721207,\n",
       "        80448.38430783, 149647.19558454, 116627.64518798, 130022.82306379,\n",
       "       174888.14264374, 293492.48984534, 146100.99822157, 150464.91899219,\n",
       "        86467.61783875,  70328.52100342,  70458.08685528,  68869.46933558,\n",
       "       120487.1622868 ,  89500.33665356, 167178.54698757, 125346.44063256,\n",
       "        67033.96565195, 140708.04064616, 118376.48566826, 165726.35967814,\n",
       "       169009.62956152, 146839.78084885, 141215.12028542, 108907.75284131])"
      ]
     },
     "execution_count": 10,
     "metadata": {},
     "output_type": "execute_result"
    }
   ],
   "source": [
    "y_pred = regressor.predict(X_test)\n",
    "y_pred"
   ]
  },
  {
   "cell_type": "code",
   "execution_count": 11,
   "metadata": {},
   "outputs": [
    {
     "data": {
      "text/plain": [
       "array([ 5.27572958e-01,  8.44490415e-01,  1.06639226e-01, -3.54869857e+02])"
      ]
     },
     "execution_count": 11,
     "metadata": {},
     "output_type": "execute_result"
    }
   ],
   "source": [
    "# Claculating the coefficients\n",
    "regressor.coef_"
   ]
  },
  {
   "cell_type": "code",
   "execution_count": 12,
   "metadata": {},
   "outputs": [
    {
     "data": {
      "text/plain": [
       "-51144.72642572172"
      ]
     },
     "execution_count": 12,
     "metadata": {},
     "output_type": "execute_result"
    }
   ],
   "source": [
    "# Calculate the Intercept\n",
    "regressor.intercept_"
   ]
  },
  {
   "cell_type": "code",
   "execution_count": 13,
   "metadata": {},
   "outputs": [
    {
     "data": {
      "text/plain": [
       "0.9112595959622044"
      ]
     },
     "execution_count": 13,
     "metadata": {},
     "output_type": "execute_result"
    }
   ],
   "source": [
    "# R squared value of 0.91 proves the model is a good model\n",
    "from sklearn.metrics import r2_score\n",
    "r2_score(y_test, y_pred)"
   ]
  },
  {
   "cell_type": "code",
   "execution_count": null,
   "metadata": {},
   "outputs": [],
   "source": [
    "# We have successfully trained our model with certain predictors and\n",
    "# estimated the profit of companies using linear regression"
   ]
  },
  {
   "cell_type": "markdown",
   "metadata": {},
   "source": [
    "# Deploy =>"
   ]
  },
  {
   "cell_type": "code",
   "execution_count": null,
   "metadata": {},
   "outputs": [],
   "source": []
  }
 ],
 "metadata": {
  "kernelspec": {
   "display_name": "Python 3",
   "language": "python",
   "name": "python3"
  },
  "language_info": {
   "codemirror_mode": {
    "name": "ipython",
    "version": 3
   },
   "file_extension": ".py",
   "mimetype": "text/x-python",
   "name": "python",
   "nbconvert_exporter": "python",
   "pygments_lexer": "ipython3",
   "version": "3.7.3"
  }
 },
 "nbformat": 4,
 "nbformat_minor": 2
}
